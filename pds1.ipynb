{
 "cells": [
  {
   "cell_type": "markdown",
   "id": "930e330c",
   "metadata": {},
   "source": [
    "# Project 1D : Data Analysis : Peak Finder"
   ]
  },
  {
   "cell_type": "markdown",
   "id": "edc87ded",
   "metadata": {},
   "source": [
    "> ### *Authors*\n",
    ">- *Mukta Burde*\n",
    ">- *Jonah Panting*\n",
    ">- *Benedict Rochmankowski* "
   ]
  },
  {
   "cell_type": "markdown",
   "id": "7ef8f194",
   "metadata": {},
   "source": [
    "#### Goals:\n",
    "- Implement methods to analyse a given R5IM signal and identify the N largest losses\n",
    "- Quantify the N largest peaks: where are they (in BLM and time)"
   ]
  },
  {
   "cell_type": "code",
   "execution_count": null,
   "id": "7da91725",
   "metadata": {},
   "outputs": [],
   "source": []
  }
 ],
 "metadata": {
  "kernelspec": {
   "display_name": "Python 3 (ipykernel)",
   "language": "python",
   "name": "python3"
  },
  "language_info": {
   "codemirror_mode": {
    "name": "ipython",
    "version": 3
   },
   "file_extension": ".py",
   "mimetype": "text/x-python",
   "name": "python",
   "nbconvert_exporter": "python",
   "pygments_lexer": "ipython3",
   "version": "3.10.9"
  }
 },
 "nbformat": 4,
 "nbformat_minor": 5
}
