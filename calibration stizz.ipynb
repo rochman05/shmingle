{
 "cells": [
  {
   "cell_type": "markdown",
   "id": "2e3ffab7",
   "metadata": {},
   "source": [
    "# calibration"
   ]
  },
  {
   "cell_type": "markdown",
   "id": "2f2a67a6",
   "metadata": {},
   "source": [
    "## passing data through filters\n",
    "## which blms to include\n",
    "## selecting time interval (stats)\n",
    "## change between raw signal (volts), protons, charge (coulombs), energy (joules)"
   ]
  },
  {
   "cell_type": "code",
   "execution_count": 1,
   "id": "44ba99ad",
   "metadata": {},
   "outputs": [],
   "source": []
  },
  {
   "cell_type": "code",
   "execution_count": null,
   "id": "786d59f0",
   "metadata": {},
   "outputs": [],
   "source": [
    "\n",
    "\n"
   ]
  }
 ],
 "metadata": {
  "kernelspec": {
   "display_name": "Python 3 (ipykernel)",
   "language": "python",
   "name": "python3"
  },
  "language_info": {
   "codemirror_mode": {
    "name": "ipython",
    "version": 3
   },
   "file_extension": ".py",
   "mimetype": "text/x-python",
   "name": "python",
   "nbconvert_exporter": "python",
   "pygments_lexer": "ipython3",
   "version": "3.10.9"
  }
 },
 "nbformat": 4,
 "nbformat_minor": 5
}
