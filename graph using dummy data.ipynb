{
 "cells": [
  {
   "cell_type": "code",
   "execution_count": 23,
   "id": "d0f9c250",
   "metadata": {},
   "outputs": [],
   "source": [
    "# import paho.mqtt.client as mqtt\n",
    "# import numpy as np\n",
    "# import string\n",
    "# import json\n",
    "# import random\n",
    "# import time\n",
    "# import matplotlib.pyplot as plt\n",
    "# import matplotlib.cm as cm\n",
    "\n",
    "# msg_array = []\n",
    "# for i in range(0, 2199):\n",
    "#     msg_array.append(random.randint(0, 100))\n",
    "    \n",
    "# print(msg_array)\n",
    "\n",
    "# x = np.linspace(-0.5, 10.5, 2200)\n",
    "# print(x)\n",
    "\n",
    "# for i in range(0, 2199):\n",
    "#     y = msg_array[i]\n",
    "#     plt.plot(x, y)\n",
    "        "
   ]
  },
  {
   "cell_type": "code",
   "execution_count": 24,
   "id": "0819a83c",
   "metadata": {},
   "outputs": [],
   "source": [
    "import glob\n",
    "import pandas as pd"
   ]
  },
  {
   "cell_type": "code",
   "execution_count": 33,
   "id": "11b65e0d",
   "metadata": {},
   "outputs": [
    {
     "ename": "SyntaxError",
     "evalue": "unterminated string literal (detected at line 1) (259071996.py, line 1)",
     "output_type": "error",
     "traceback": [
      "\u001b[1;36m  Cell \u001b[1;32mIn[33], line 1\u001b[1;36m\u001b[0m\n\u001b[1;33m    files = glob.glob(\"Desktop/jupyter/wx_jupyter/wx_stage_1_projects/01_projects/BLM_R5IM_Data/cycle/26_05_2023_00_35_36_034042.csv)\u001b[0m\n\u001b[1;37m                      ^\u001b[0m\n\u001b[1;31mSyntaxError\u001b[0m\u001b[1;31m:\u001b[0m unterminated string literal (detected at line 1)\n"
     ]
    }
   ],
   "source": [
    "files = glob.glob()\n",
    "print(files)\n"
   ]
  },
  {
   "cell_type": "code",
   "execution_count": 30,
   "id": "78340ebc",
   "metadata": {},
   "outputs": [],
   "source": [
    "for file in files:\n",
    "    print(file)"
   ]
  },
  {
   "cell_type": "code",
   "execution_count": null,
   "id": "08ffc09f",
   "metadata": {},
   "outputs": [],
   "source": []
  }
 ],
 "metadata": {
  "kernelspec": {
   "display_name": "Python 3 (ipykernel)",
   "language": "python",
   "name": "python3"
  },
  "language_info": {
   "codemirror_mode": {
    "name": "ipython",
    "version": 3
   },
   "file_extension": ".py",
   "mimetype": "text/x-python",
   "name": "python",
   "nbconvert_exporter": "python",
   "pygments_lexer": "ipython3",
   "version": "3.10.9"
  }
 },
 "nbformat": 4,
 "nbformat_minor": 5
}
